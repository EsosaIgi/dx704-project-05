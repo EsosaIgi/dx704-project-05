{
  "cells": [
    {
      "cell_type": "markdown",
      "metadata": {
        "id": "Md413FzAvFD8"
      },
      "source": [
        "# DX 704 Week 5 Project\n",
        "\n",
        "This week's project will test your understanding of this week's concepts by asking you to simulate various algorithms by hand.\n",
        "You will apply search, minimax and dynamic programming concepts to solve a variety of small planning problems."
      ]
    },
    {
      "cell_type": "markdown",
      "metadata": {
        "id": "MeWtrixsH2uH"
      },
      "source": [
        "The full project description, a template notebook and supporting materials are available on GitHub: [Project 5 Materials](https://github.com/bu-cds-dx704/dx704-project-05)."
      ]
    },
    {
      "cell_type": "markdown",
      "metadata": {
        "id": "uRC-Wd81daLm"
      },
      "source": [
        "## Example Code\n",
        "\n",
        "This week's assignment does not involve any coding."
      ]
    },
    {
      "cell_type": "markdown",
      "metadata": {
        "id": "C8oSLkMqvMFF"
      },
      "source": [
        "## Part 1: Searching vs Games\n",
        "\n",
        "Consider the state space illustrated below.\n",
        "Each terminal state state is marked with a reward for reaching that state.\n",
        "Each non-terminal state has two possible actions represented by the two outgoing arrows to later (lower) states.\n",
        "The only rewards are for reaching the terminal states, there are no diminishing returns (i.e. $\\gamma=1$), and there is no randomness so actions may be freely chosen."
      ]
    },
    {
      "cell_type": "markdown",
      "metadata": {
        "id": "IqIrGebXXNEA"
      },
      "source": [
        "![](https://github.com/bu-cds-dx704/dx704-project-05/blob/main/part1.png?raw=true)"
      ]
    },
    {
      "cell_type": "markdown",
      "metadata": {
        "id": "3rpIFDV0rQ2-"
      },
      "source": [
        "Solve for the value of each non-terminal state according to the following three scenarios.\n",
        "\n",
        "1. Search: There is one agent that picks all actions with the goal of maximizing the final reward.\n",
        "2. Minimax: There are two agents P1 and P2. P1 controls the actions for the 1st and 3rd rows (i.e. the states marked A and D-G) while P2 controls the actions for the 2nd and 4th rows (i.e. the states B-C and H-J). P1 seeks to maximize the final reward, and P2 seeks to minimize the final reward.\n",
        "3. Maximin: P1 and P2 control the same states as before, but P1 seeks to minimize the final reward, and P2 seeks to maximize the final reward.\n",
        "\n",
        "Save your results in a file \"values-1.tsv\" with the column state with label A-J and columns search_value, minimax_value, and maximin_value that respectively correspond to the three scenarios."
      ]
    },
    {
      "cell_type": "markdown",
      "metadata": {
        "id": "sH9SgF44sU9o"
      },
      "source": [
        "Hint: Print out the image above and compute the values by hand in a bottom up fashion."
      ]
    },
    {
      "cell_type": "code",
      "execution_count": 27,
      "metadata": {},
      "outputs": [
        {
          "name": "stdout",
          "output_type": "stream",
          "text": [
            "Wrote values-1.tsv with 18 states\n"
          ]
        }
      ],
      "source": [
        "# === Part 1: bottom-up evaluation over part1.dot ===\n",
        "# Output columns EXACTLY: state, search, minimax, maximin\n",
        "\n",
        "from pathlib import Path\n",
        "from collections import defaultdict, deque\n",
        "from functools import lru_cache\n",
        "import re, csv\n",
        "\n",
        "DOT_PATH = Path(\"part1.dot\")\n",
        "\n",
        "edge_re  = re.compile(r'(\\w+)\\s*->\\s*(\\w+)\\s*;')\n",
        "node_decl_re = re.compile(r'(\\w+)\\s*\\[(.*?)\\]', re.DOTALL)\n",
        "label_re = re.compile(r'label\\s*=\\s*(?:\"([^\"]+)\"|<([^>]+)>|([^\\s,\\]]+))', re.DOTALL)\n",
        "\n",
        "raw = DOT_PATH.read_text()\n",
        "\n",
        "# edges\n",
        "adj = defaultdict(list); nodes = set()\n",
        "for a,b in edge_re.findall(raw):\n",
        "    adj[a].append(b); nodes.add(a); nodes.add(b)\n",
        "\n",
        "# labels\n",
        "id_to_label = {}\n",
        "for node_id, attrs in node_decl_re.findall(raw):\n",
        "    m = label_re.search(attrs)\n",
        "    if m:\n",
        "        lbl = (m.group(1) or m.group(2) or m.group(3)).strip()\n",
        "        id_to_label[node_id] = lbl\n",
        "    nodes.add(node_id)\n",
        "\n",
        "# normalize labels to bare state names (e.g., \"S: start\" -> \"S\", \"C: +100\" -> \"C\")\n",
        "def norm(lbl):\n",
        "    m = re.match(r'([A-Za-z]+)', lbl.strip())\n",
        "    return m.group(1) if m else lbl.strip()\n",
        "\n",
        "label_to_id = {norm(v): k for k,v in id_to_label.items()}\n",
        "root = label_to_id.get(\"A\")\n",
        "if root is None:\n",
        "    indeg = {u:0 for u in nodes}\n",
        "    for u, vs in adj.items():\n",
        "        for v in vs:\n",
        "            indeg[v] = indeg.get(v, 0) + 1\n",
        "            indeg.setdefault(u, 0)\n",
        "    zero_in = [u for u,d in indeg.items() if d == 0]\n",
        "    root = zero_in[0] if zero_in else next(iter(nodes))\n",
        "\n",
        "# depths\n",
        "depth = {root: 0}\n",
        "dq = deque([root])\n",
        "while dq:\n",
        "    u = dq.popleft()\n",
        "    for v in adj.get(u, []):\n",
        "        if v not in depth:\n",
        "            depth[v] = depth[u] + 1\n",
        "            dq.append(v)\n",
        "\n",
        "def is_num(lbl): \n",
        "    return re.fullmatch(r'[+-]?\\d+', lbl.strip()) is not None\n",
        "\n",
        "# leaf values (must be numeric)\n",
        "leaf_values = {}\n",
        "for n in nodes:\n",
        "    if len(adj.get(n, [])) == 0:\n",
        "        lbl = id_to_label.get(n, \"\")\n",
        "        if not is_num(lbl):\n",
        "            raise RuntimeError(f\"Leaf {n} lacks numeric label: '{lbl}'\")\n",
        "        leaf_values[n] = int(lbl)\n",
        "\n",
        "@lru_cache(None)\n",
        "def kids(n): return tuple(adj.get(n, []))\n",
        "\n",
        "@lru_cache(None)\n",
        "def val_search(n):\n",
        "    if n in leaf_values: return leaf_values[n]\n",
        "    return max(val_search(c) for c in kids(n))\n",
        "\n",
        "@lru_cache(None)\n",
        "def val_minimax(n):\n",
        "    if n in leaf_values: return leaf_values[n]\n",
        "    d = depth[n]\n",
        "    vals = [val_minimax(c) for c in kids(n)]\n",
        "    return max(vals) if d % 2 == 0 else min(vals)\n",
        "\n",
        "@lru_cache(None)\n",
        "def val_maximin(n):\n",
        "    if n in leaf_values: return leaf_values[n]\n",
        "    d = depth[n]\n",
        "    vals = [val_maximin(c) for c in kids(n)]\n",
        "    return min(vals) if d % 2 == 0 else max(vals)\n",
        "\n",
        "# Build rows in terms of CLEAN state names\n",
        "rows = []\n",
        "for nid in nodes:\n",
        "    lbl_full = id_to_label.get(nid, nid)\n",
        "    state = norm(lbl_full)\n",
        "    rows.append((state, val_search(nid), val_minimax(nid), val_maximin(nid)))\n",
        "\n",
        "# De-duplicate (if multiple IDs map to same state label)\n",
        "agg = {}\n",
        "for st, s, mm, mx in rows:\n",
        "    # prefer root-consistent or any (all should agree)\n",
        "    agg[st] = (s, mm, mx)\n",
        "\n",
        "# Stable order: alphabetic by state\n",
        "out = [(st,)+agg[st] for st in sorted(agg.keys())]\n",
        "\n",
        "with open(\"values-1.tsv\", \"w\", newline=\"\") as f:\n",
        "    w = csv.writer(f, delimiter=\"\\t\")\n",
        "    w.writerow([\"state\",\"search\",\"minimax\",\"maximin\"])\n",
        "    for row in out:\n",
        "        w.writerow(row)\n",
        "\n",
        "print(\"Wrote values-1.tsv with\", len(out), \"states\")\n",
        "\n"
      ]
    },
    {
      "cell_type": "markdown",
      "metadata": {
        "id": "FiuoS64VuPaQ"
      },
      "source": [
        "Submit the file \"values-1.tsv\" in Gradescope."
      ]
    },
    {
      "cell_type": "markdown",
      "metadata": {
        "id": "kfvETFzfbLtM"
      },
      "source": [
        "## Part 2: Picking Up Sticks\n",
        "\n",
        "The state space illustrated below corresponds to a variation of the game [Nim](https://en.wikipedia.org/wiki/Nim).\n",
        "States labeled with a prefix of \"p1_\" correspond to states where player P1 chooses the action while states labeled with a prefix of \"p2_\" correspond to states where player P2 chooses the action.\n",
        "The number in the suffix is the number of \"sticks\" remaining.\n",
        "The players take turns choosing actions, and each action corresponds to removing one or two sticks.\n",
        "When there are no more sticks, the player who would have picked an action loses.\n"
      ]
    },
    {
      "cell_type": "markdown",
      "metadata": {
        "id": "lvbiyLjebPz4"
      },
      "source": [
        "![](https://github.com/bu-cds-dx704/dx704-project-05/blob/main/part2.png?raw=true)"
      ]
    },
    {
      "cell_type": "markdown",
      "metadata": {
        "id": "4iwgAVJptral"
      },
      "source": [
        "For example, from the state labeled \"p1_1\", there is one stick left, player P1 removes the last stick, and player P2 loses.\n",
        "The loss for P2 is represented by a final reward of +1.\n",
        "A loss for P1 is represented by a final reward of -1.\n",
        "Player P1 tries to maximize the final reward, and player P2 tries to minimize the final reward."
      ]
    },
    {
      "cell_type": "markdown",
      "metadata": {
        "id": "5cHZf7Y7t0rN"
      },
      "source": [
        "Solve for the value of each of the non-terminal states.\n",
        "Save the results in a file \"values-2.tsv\" with columns state and value."
      ]
    },
    {
      "cell_type": "code",
      "execution_count": 28,
      "metadata": {},
      "outputs": [
        {
          "name": "stdout",
          "output_type": "stream",
          "text": [
            "Wrote values-2.tsv with 12 rows\n"
          ]
        }
      ],
      "source": [
        "from pathlib import Path\n",
        "from collections import defaultdict\n",
        "from functools import lru_cache\n",
        "import re, csv\n",
        "\n",
        "DOT_PATH = Path(\"part2.dot\")  \n",
        "\n",
        "def parse_dot_edges(dot_path: Path):\n",
        "    text = dot_path.read_text()\n",
        "    edge_pat = re.compile(r'(\\w+)\\s*->\\s*(\\w+)\\s*;')\n",
        "    adj = defaultdict(list); nodes = set()\n",
        "    for a,b in edge_pat.findall(text):\n",
        "        adj[a].append(b); nodes.add(a); nodes.add(b)\n",
        "    return dict(adj), nodes\n",
        "\n",
        "adj, nodes = parse_dot_edges(DOT_PATH)\n",
        "\n",
        "def is_state(s: str):\n",
        "    return re.fullmatch(r'p[12]_\\d+', s) is not None\n",
        "\n",
        "states = sorted([s for s in nodes if is_state(s)],\n",
        "                key=lambda s: (int(s.split('_')[1]), s.split('_')[0]))\n",
        "\n",
        "TERMINAL = {\"p1_0\": -1, \"p2_0\": +1}\n",
        "\n",
        "@lru_cache(None)\n",
        "def negamax(s: str) -> int:\n",
        "    if s in TERMINAL:\n",
        "        return TERMINAL[s]\n",
        "    succ = adj.get(s, [])\n",
        "    if not succ:\n",
        "        return 0  # defensive\n",
        "    # current-player value = max over successors of -value(next)\n",
        "    return max(-negamax(t) for t in succ)\n",
        "\n",
        "with open(\"values-2.tsv\", \"w\", newline=\"\") as f:\n",
        "    w = csv.writer(f, delimiter=\"\\t\")\n",
        "    w.writerow([\"state\", \"value\"])\n",
        "    for s in states:\n",
        "        w.writerow([s, negamax(s)])\n",
        "\n",
        "print(\"Wrote values-2.tsv with\", len(states), \"rows\")\n",
        "\n",
        "\n",
        "\n"
      ]
    },
    {
      "cell_type": "markdown",
      "metadata": {
        "id": "gLkvKANCuTkK"
      },
      "source": [
        "Submit the file \"values-2.tsv\" in Gradescope."
      ]
    },
    {
      "cell_type": "markdown",
      "metadata": {
        "id": "NWFScR_kuVnU"
      },
      "source": [
        "## Part 3: Searching a Maze\n",
        "\n",
        "Consider the following maze."
      ]
    },
    {
      "cell_type": "markdown",
      "metadata": {
        "id": "MqPKQ9mEx7Al"
      },
      "source": [
        "![](https://github.com/bu-cds-dx704/dx704-project-05/blob/main/part3.png?raw=true)"
      ]
    },
    {
      "cell_type": "markdown",
      "metadata": {
        "id": "4NtP8sDMvTSS"
      },
      "source": [
        "State C is a terminal state giving reward +100.\n",
        "The remaining states have a reward of -1 when they are reached.\n",
        "So moving to state F has a value of +99 do to the reward of -1 at state F and the optimal action of moving to state C for the reward of +100 afterwards."
      ]
    },
    {
      "cell_type": "markdown",
      "metadata": {
        "id": "82BHKa1syjEk"
      },
      "source": [
        "Compute the values for states A-J and S and save them in a file \"values-3.tsv\" with columns state and value."
      ]
    },
    {
      "cell_type": "code",
      "execution_count": 29,
      "metadata": {},
      "outputs": [
        {
          "name": "stdout",
          "output_type": "stream",
          "text": [
            "Wrote values-3.tsv with 11 states\n"
          ]
        }
      ],
      "source": [
        "# === Part 3: V*(s) = 100 - shortest_steps_to_C (γ=1, r=-1 per nonterminal, r(C)=100) ===\n",
        "# Output columns EXACTLY: state, value   (INCLUDE C with value 100)\n",
        "\n",
        "from pathlib import Path\n",
        "from collections import defaultdict, deque\n",
        "import re, csv, math\n",
        "\n",
        "DOT_PATH = Path(\"part3.dot\")  # MUST be the MDP graph (the one with S and C)\n",
        "\n",
        "edge_re       = re.compile(r'(\\w+)\\s*->\\s*(\\w+)\\s*;')\n",
        "node_decl_re  = re.compile(r'(\\w+)\\s*\\[(.*?)\\]', re.DOTALL)\n",
        "label_re      = re.compile(r'label\\s*=\\s*(?:\"([^\"]+)\"|<([^>]+)>|([^\\s,\\]]+))', re.DOTALL)\n",
        "\n",
        "raw = DOT_PATH.read_text()\n",
        "\n",
        "adj = defaultdict(list); nodes = set()\n",
        "for a,b in edge_re.findall(raw):\n",
        "    adj[a].append(b); nodes.add(a); nodes.add(b)\n",
        "\n",
        "id_to_label = {}\n",
        "for node_id, attrs in node_decl_re.findall(raw):\n",
        "    m = label_re.search(attrs)\n",
        "    if m:\n",
        "        id_to_label[node_id] = (m.group(1) or m.group(2) or m.group(3)).strip()\n",
        "    nodes.add(node_id)\n",
        "\n",
        "def norm(lbl):\n",
        "    m = re.match(r'([A-Za-z]+)', lbl.strip())\n",
        "    return m.group(1) if m else lbl.strip()\n",
        "\n",
        "# find C (label has +100 or begins with C)\n",
        "def is_C(lbl):\n",
        "    t = lbl.strip()\n",
        "    return ('+100' in t) or t.startswith('C')\n",
        "\n",
        "C_nodes = [nid for nid,lbl in id_to_label.items() if is_C(lbl)]\n",
        "if not C_nodes:\n",
        "    raise RuntimeError(\"Terminal C not found (look for label containing '+100' or starting with 'C').\")\n",
        "C = C_nodes[0]\n",
        "\n",
        "# reverse BFS from C to get shortest steps\n",
        "rev = defaultdict(list)\n",
        "for u, vs in adj.items():\n",
        "    for v in vs:\n",
        "        rev[v].append(u)\n",
        "\n",
        "dist = {n: math.inf for n in nodes}\n",
        "dq = deque([C]); dist[C] = 0\n",
        "while dq:\n",
        "    x = dq.popleft()\n",
        "    for p in rev.get(x, []):\n",
        "        if dist[p] == math.inf:\n",
        "            dist[p] = dist[x] + 1\n",
        "            dq.append(p)\n",
        "\n",
        "# write TSV (include C=100). Use normalized labels like A,B,C,S (strip \": ...\")\n",
        "rows = []\n",
        "for nid in nodes:\n",
        "    lbl = norm(id_to_label.get(nid, nid))\n",
        "    if dist[nid] == math.inf:\n",
        "        # unreachable → -inf under γ=1, step cost −1\n",
        "        val = \"-inf\"\n",
        "    else:\n",
        "        val = 100 - dist[nid] if nid != C else 100\n",
        "    rows.append((lbl, val))\n",
        "\n",
        "# de-duplicate by state label\n",
        "best = {}\n",
        "for s,v in rows:\n",
        "    best[s] = v\n",
        "\n",
        "out = sorted(best.items(), key=lambda t: t[0])\n",
        "with open(\"values-3.tsv\", \"w\", newline=\"\") as f:\n",
        "    w = csv.writer(f, delimiter=\"\\t\")\n",
        "    w.writerow([\"state\",\"value\"])\n",
        "    for s,v in out:\n",
        "        w.writerow([s, v])\n",
        "\n",
        "print(\"Wrote values-3.tsv with\", len(out), \"states\")\n",
        "\n"
      ]
    },
    {
      "cell_type": "markdown",
      "metadata": {
        "id": "NAKgdr4XysuK"
      },
      "source": [
        "Submit \"values-3.tsv\" in Gradescope."
      ]
    },
    {
      "cell_type": "markdown",
      "metadata": {
        "id": "zi8lV2pbvWMs"
      },
      "source": [
        "## Part 4: Acknowledgements\n",
        "\n",
        "If you discussed this assignment with anyone, please acknowledge them here.\n",
        "If you did this assignment completely on your own, simply write none below.\n",
        "\n",
        "None\n",
        "\n",
        "If you used any libraries not mentioned in this module's content, please list them with a brief explanation what you used them for. If you did not use any other libraries, simply write none below.\n",
        "\n",
        "None\n",
        "\n",
        "If you used any generative AI tools, please add links to your transcripts below, and any other information that you feel is necessary to comply with the generative AI policy. If you did not use any generative AI tools, simply write none below.\n",
        "\n",
        "here is the conversation i had with chatgpt helping me go over my work\n",
        "\n",
        "https://chatgpt.com/share/68e1d9c3-46d4-800d-9203-4fd1db4f6195"
      ]
    },
    {
      "cell_type": "code",
      "execution_count": 30,
      "metadata": {},
      "outputs": [
        {
          "name": "stdout",
          "output_type": "stream",
          "text": [
            "Wrote acknowledgments.txt\n"
          ]
        }
      ],
      "source": [
        "with open(\"acknowledgments.txt\", \"w\") as f:\n",
        "    f.write(\"Acknowledgments: I discussed general approach with ChatGPT for debugging formatting and file outputs. Here is the link: https://chatgpt.com/share/68e1d9c3-46d4-800d-9203-4fd1db4f6195 \\n\")\n",
        "print(\"Wrote acknowledgments.txt\")\n"
      ]
    }
  ],
  "metadata": {
    "colab": {
      "toc_visible": false
    },
    "kernelspec": {
      "display_name": "Python 3",
      "name": "python3"
    },
    "language_info": {
      "codemirror_mode": {
        "name": "ipython",
        "version": 3
      },
      "file_extension": ".py",
      "mimetype": "text/x-python",
      "name": "python",
      "nbconvert_exporter": "python",
      "pygments_lexer": "ipython3",
      "version": "3.12.1"
    }
  },
  "nbformat": 4,
  "nbformat_minor": 0
}
