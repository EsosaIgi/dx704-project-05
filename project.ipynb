{
  "cells": [
    {
      "cell_type": "markdown",
      "metadata": {
        "id": "Md413FzAvFD8"
      },
      "source": [
        "# DX 704 Week 5 Project\n",
        "\n",
        "This week's project will test your understanding of this week's concepts by asking you to simulate various algorithms by hand.\n",
        "You will apply search, minimax and dynamic programming concepts to solve a variety of small planning problems."
      ]
    },
    {
      "cell_type": "markdown",
      "metadata": {
        "id": "MeWtrixsH2uH"
      },
      "source": [
        "The full project description, a template notebook and supporting materials are available on GitHub: [Project 5 Materials](https://github.com/bu-cds-dx704/dx704-project-05)."
      ]
    },
    {
      "cell_type": "markdown",
      "metadata": {
        "id": "uRC-Wd81daLm"
      },
      "source": [
        "## Example Code\n",
        "\n",
        "This week's assignment does not involve any coding."
      ]
    },
    {
      "cell_type": "markdown",
      "metadata": {
        "id": "C8oSLkMqvMFF"
      },
      "source": [
        "## Part 1: Searching vs Games\n",
        "\n",
        "Consider the state space illustrated below.\n",
        "Each terminal state state is marked with a reward for reaching that state.\n",
        "Each non-terminal state has two possible actions represented by the two outgoing arrows to later (lower) states.\n",
        "The only rewards are for reaching the terminal states, there are no diminishing returns (i.e. $\\gamma=1$), and there is no randomness so actions may be freely chosen."
      ]
    },
    {
      "cell_type": "markdown",
      "metadata": {
        "id": "IqIrGebXXNEA"
      },
      "source": [
        "![](https://github.com/bu-cds-dx704/dx704-project-05/blob/main/part1.png?raw=true)"
      ]
    },
    {
      "cell_type": "markdown",
      "metadata": {
        "id": "3rpIFDV0rQ2-"
      },
      "source": [
        "Solve for the value of each non-terminal state according to the following three scenarios.\n",
        "\n",
        "1. Search: There is one agent that picks all actions with the goal of maximizing the final reward.\n",
        "2. Minimax: There are two agents P1 and P2. P1 controls the actions for the 1st and 3rd rows (i.e. the states marked A and D-G) while P2 controls the actions for the 2nd and 4th rows (i.e. the states B-C and H-J). P1 seeks to maximize the final reward, and P2 seeks to minimize the final reward.\n",
        "3. Maximin: P1 and P2 control the same states as before, but P1 seeks to minimize the final reward, and P2 seeks to maximize the final reward.\n",
        "\n",
        "Save your results in a file \"values-1.tsv\" with the column state with label A-J and columns search_value, minimax_value, and maximin_value that respectively correspond to the three scenarios."
      ]
    },
    {
      "cell_type": "markdown",
      "metadata": {
        "id": "sH9SgF44sU9o"
      },
      "source": [
        "Hint: Print out the image above and compute the values by hand in a bottom up fashion."
      ]
    },
    {
      "cell_type": "code",
      "execution_count": 15,
      "metadata": {},
      "outputs": [
        {
          "name": "stdout",
          "output_type": "stream",
          "text": [
            "Root: n1 label: A\n",
            "Search(A) = 20\n",
            "Minimax(A) = 1\n",
            "Maximin(A) = 0\n",
            "Wrote values-1.tsv with 21 rows\n"
          ]
        }
      ],
      "source": [
        "from pathlib import Path\n",
        "from collections import defaultdict, deque\n",
        "from functools import lru_cache\n",
        "import re, csv\n",
        "\n",
        "DOT_PATH = Path(\"part1.dot\")  # change if needed\n",
        "\n",
        "# --- Parse the DOT (edges + labels) ---\n",
        "edge_re  = re.compile(r'(\\w+)\\s*->\\s*(\\w+)\\s*;')\n",
        "node_decl_re = re.compile(r'(\\w+)\\s*\\[(.*?)\\]', re.DOTALL)\n",
        "label_re = re.compile(r'label\\s*=\\s*\"([^\"]+)\"')\n",
        "\n",
        "raw = DOT_PATH.read_text()\n",
        "\n",
        "adj = defaultdict(list)\n",
        "nodes = set()\n",
        "for a,b in edge_re.findall(raw):\n",
        "    adj[a].append(b)\n",
        "    nodes.add(a); nodes.add(b)\n",
        "\n",
        "id_to_label = {}\n",
        "for node_id, attrs in node_decl_re.findall(raw):\n",
        "    m = label_re.search(attrs)\n",
        "    if m:\n",
        "        id_to_label[node_id] = m.group(1)\n",
        "    nodes.add(node_id)\n",
        "\n",
        "# prefer a node whose label is 'A' as root; otherwise zero-indegree fallback\n",
        "label_to_id = {v:k for k,v in id_to_label.items()}\n",
        "root = label_to_id.get(\"A\")\n",
        "if root is None:\n",
        "    indeg = {u:0 for u in nodes}\n",
        "    for u, vs in adj.items():\n",
        "        for v in vs:\n",
        "            indeg[v] = indeg.get(v, 0) + 1\n",
        "            indeg.setdefault(u, 0)\n",
        "    zero_in = [u for u,d in indeg.items() if d == 0]\n",
        "    if not zero_in:\n",
        "        raise RuntimeError(\"No root found.\")\n",
        "    root = zero_in[0]\n",
        "\n",
        "# --- Depths (row numbers) ---\n",
        "depth = {root: 0}\n",
        "dq = deque([root])\n",
        "while dq:\n",
        "    u = dq.popleft()\n",
        "    for v in adj.get(u, []):\n",
        "        if v not in depth:\n",
        "            depth[v] = depth[u] + 1\n",
        "            dq.append(v)\n",
        "\n",
        "# Leaves have numeric labels like +5, -1, 0, etc.\n",
        "def is_num(lbl): \n",
        "    return re.fullmatch(r'[+-]?\\d+', lbl.strip()) is not None\n",
        "\n",
        "leaf_values = {}\n",
        "for n in nodes:\n",
        "    if len(adj.get(n, [])) == 0:\n",
        "        lbl = id_to_label.get(n, \"\")\n",
        "        if not is_num(lbl):\n",
        "            raise RuntimeError(f\"Leaf {n} does not have a numeric label: '{lbl}'\")\n",
        "        leaf_values[n] = int(lbl)\n",
        "\n",
        "# --- Bottom-up evaluation helpers ---\n",
        "@lru_cache(None)\n",
        "def children(n): \n",
        "    return tuple(adj.get(n, []))\n",
        "\n",
        "@lru_cache(None)\n",
        "def value_search(n):\n",
        "    # Search: every internal node is MAX over children\n",
        "    if n in leaf_values: \n",
        "        return leaf_values[n]\n",
        "    return max(value_search(c) for c in children(n))\n",
        "\n",
        "@lru_cache(None)\n",
        "def value_minimax(n):\n",
        "    # Minimax: rows 1 & 3 (depth 0 and 2) are P1=MAX; rows 2 & 4 (depth 1 and 3) are P2=MIN\n",
        "    if n in leaf_values:\n",
        "        return leaf_values[n]\n",
        "    d = depth[n]\n",
        "    vals = [value_minimax(c) for c in children(n)]\n",
        "    return max(vals) if d % 2 == 0 else min(vals)\n",
        "\n",
        "@lru_cache(None)\n",
        "def value_maximin(n):\n",
        "    # Maximin: same row control, but P1=MIN (even depths), P2=MAX (odd depths)\n",
        "    if n in leaf_values:\n",
        "        return leaf_values[n]\n",
        "    d = depth[n]\n",
        "    vals = [value_maximin(c) for c in children(n)]\n",
        "    return min(vals) if d % 2 == 0 else max(vals)\n",
        "\n",
        "def role_for_minimax(n):\n",
        "    if n in leaf_values: \n",
        "        return \"LEAF\"\n",
        "    return \"MAX\" if depth[n] % 2 == 0 else \"MIN\"  # per spec: rows 1&3 MAX, rows 2&4 MIN\n",
        "\n",
        "# --- Build TSV rows ---\n",
        "rows = []\n",
        "for n in sorted(nodes, key=lambda x: (depth.get(x, 1_000_000), id_to_label.get(x, x))):\n",
        "    rows.append({\n",
        "        \"node_id\": n,\n",
        "        \"label\": id_to_label.get(n, n),\n",
        "        \"depth\": depth.get(n, -1),\n",
        "        \"role_minimax\": role_for_minimax(n),\n",
        "        \"value_search\": value_search(n),\n",
        "        \"value_minimax\": value_minimax(n),\n",
        "        \"value_maximin\": value_maximin(n),\n",
        "    })\n",
        "\n",
        "with open(\"values-1.tsv\", \"w\", newline=\"\") as f:\n",
        "    w = csv.DictWriter(\n",
        "        f,\n",
        "        fieldnames=[\"node_id\",\"label\",\"depth\",\"role_minimax\",\"value_search\",\"value_minimax\",\"value_maximin\"],\n",
        "        delimiter=\"\\t\"\n",
        "    )\n",
        "    w.writeheader()\n",
        "    for r in rows: w.writerow(r)\n",
        "\n",
        "print(\"Root:\", root, \"label:\", id_to_label.get(root, root))\n",
        "print(\"Search(A) =\", value_search(root))\n",
        "print(\"Minimax(A) =\", value_minimax(root))\n",
        "print(\"Maximin(A) =\", value_maximin(root))\n",
        "print(\"Wrote values-1.tsv with\", len(rows), \"rows\")\n"
      ]
    },
    {
      "cell_type": "markdown",
      "metadata": {
        "id": "FiuoS64VuPaQ"
      },
      "source": [
        "Submit the file \"values-1.tsv\" in Gradescope."
      ]
    },
    {
      "cell_type": "markdown",
      "metadata": {
        "id": "kfvETFzfbLtM"
      },
      "source": [
        "## Part 2: Picking Up Sticks\n",
        "\n",
        "The state space illustrated below corresponds to a variation of the game [Nim](https://en.wikipedia.org/wiki/Nim).\n",
        "States labeled with a prefix of \"p1_\" correspond to states where player P1 chooses the action while states labeled with a prefix of \"p2_\" correspond to states where player P2 chooses the action.\n",
        "The number in the suffix is the number of \"sticks\" remaining.\n",
        "The players take turns choosing actions, and each action corresponds to removing one or two sticks.\n",
        "When there are no more sticks, the player who would have picked an action loses.\n"
      ]
    },
    {
      "cell_type": "markdown",
      "metadata": {
        "id": "lvbiyLjebPz4"
      },
      "source": [
        "![](https://github.com/bu-cds-dx704/dx704-project-05/blob/main/part2.png?raw=true)"
      ]
    },
    {
      "cell_type": "markdown",
      "metadata": {
        "id": "4iwgAVJptral"
      },
      "source": [
        "For example, from the state labeled \"p1_1\", there is one stick left, player P1 removes the last stick, and player P2 loses.\n",
        "The loss for P2 is represented by a final reward of +1.\n",
        "A loss for P1 is represented by a final reward of -1.\n",
        "Player P1 tries to maximize the final reward, and player P2 tries to minimize the final reward."
      ]
    },
    {
      "cell_type": "markdown",
      "metadata": {
        "id": "5cHZf7Y7t0rN"
      },
      "source": [
        "Solve for the value of each of the non-terminal states.\n",
        "Save the results in a file \"values-2.tsv\" with columns state and value."
      ]
    },
    {
      "cell_type": "code",
      "execution_count": 16,
      "metadata": {},
      "outputs": [
        {
          "name": "stdout",
          "output_type": "stream",
          "text": [
            "Wrote values-2.tsv with 12 rows\n"
          ]
        }
      ],
      "source": [
        "from pathlib import Path\n",
        "from collections import defaultdict\n",
        "from functools import lru_cache\n",
        "import re, csv\n",
        "\n",
        "DOT_PATH = Path(\"part2.dot\")  # change if needed\n",
        "\n",
        "# --- parse DOT edges ---\n",
        "def parse_dot_edges(dot_path: Path):\n",
        "    text = dot_path.read_text()\n",
        "    edge_pat = re.compile(r'(\\w+)\\s*->\\s*(\\w+)\\s*;')\n",
        "    adj = defaultdict(list); nodes = set()\n",
        "    for a,b in edge_pat.findall(text):\n",
        "        adj[a].append(b)\n",
        "        nodes.add(a); nodes.add(b)\n",
        "    return dict(adj), nodes\n",
        "\n",
        "adj, nodes = parse_dot_edges(DOT_PATH)\n",
        "\n",
        "# states look like p1_k or p2_k\n",
        "def is_state(s: str):\n",
        "    return re.fullmatch(r'p[12]_\\d+', s) is not None\n",
        "\n",
        "states = sorted([s for s in nodes if is_state(s)],\n",
        "                key=lambda s: (int(s.split('_')[1]), s.split('_')[0]))  # sort by k then player\n",
        "\n",
        "# Only terminals per assignment:\n",
        "TERMINAL = {\"p1_0\": -1, \"p2_0\": +1}\n",
        "\n",
        "@lru_cache(None)\n",
        "def negamax(s: str) -> int:\n",
        "    \"\"\"Zero-sum negamax value from the perspective of the player-to-move at s.\"\"\"\n",
        "    if s in TERMINAL:\n",
        "        return TERMINAL[s]\n",
        "    succ = adj.get(s, [])\n",
        "    if not succ:\n",
        "        # Shouldn't happen if graph is well-formed; neutral fallback.\n",
        "        return 0\n",
        "    # negamax: value(s) = max_{s'} ( - value(s') )\n",
        "    return max(-negamax(s2) for s2 in succ)\n",
        "\n",
        "# write TSV: only state, value\n",
        "with open(\"values-2.tsv\", \"w\", newline=\"\") as f:\n",
        "    w = csv.writer(f, delimiter=\"\\t\")\n",
        "    w.writerow([\"state\", \"value\"])\n",
        "    for s in states:\n",
        "        w.writerow([s, negamax(s)])\n",
        "\n",
        "print(\"Wrote values-2.tsv with\", len(states), \"rows\")\n",
        "\n",
        "\n"
      ]
    },
    {
      "cell_type": "markdown",
      "metadata": {
        "id": "gLkvKANCuTkK"
      },
      "source": [
        "Submit the file \"values-2.tsv\" in Gradescope."
      ]
    },
    {
      "cell_type": "markdown",
      "metadata": {
        "id": "NWFScR_kuVnU"
      },
      "source": [
        "## Part 3: Searching a Maze\n",
        "\n",
        "Consider the following maze."
      ]
    },
    {
      "cell_type": "markdown",
      "metadata": {
        "id": "MqPKQ9mEx7Al"
      },
      "source": [
        "![](https://github.com/bu-cds-dx704/dx704-project-05/blob/main/part3.png?raw=true)"
      ]
    },
    {
      "cell_type": "markdown",
      "metadata": {
        "id": "4NtP8sDMvTSS"
      },
      "source": [
        "State C is a terminal state giving reward +100.\n",
        "The remaining states have a reward of -1 when they are reached.\n",
        "So moving to state F has a value of +99 do to the reward of -1 at state F and the optimal action of moving to state C for the reward of +100 afterwards."
      ]
    },
    {
      "cell_type": "markdown",
      "metadata": {
        "id": "82BHKa1syjEk"
      },
      "source": [
        "Compute the values for states A-J and S and save them in a file \"values-3.tsv\" with columns state and value."
      ]
    },
    {
      "cell_type": "code",
      "execution_count": 17,
      "metadata": {},
      "outputs": [
        {
          "name": "stdout",
          "output_type": "stream",
          "text": [
            "C id: C label: C: +100\n",
            "Wrote values-3.tsv with 11 rows\n"
          ]
        }
      ],
      "source": [
        "from pathlib import Path\n",
        "from collections import defaultdict, deque\n",
        "import re, csv, math\n",
        "\n",
        "DOT_PATH = Path(\"part3.dot\")  # point this at the MDP graph (with S, A, B, ..., C:+100)\n",
        "\n",
        "edge_re       = re.compile(r'(\\w+)\\s*->\\s*(\\w+)\\s*;')\n",
        "node_decl_re  = re.compile(r'(\\w+)\\s*\\[(.*?)\\]', re.DOTALL)\n",
        "label_re      = re.compile(r'label\\s*=\\s*(?:\"([^\"]+)\"|<([^>]+)>|([^\\s,\\]]+))', re.DOTALL)\n",
        "\n",
        "raw = DOT_PATH.read_text()\n",
        "\n",
        "# edges + labels\n",
        "adj = defaultdict(list); nodes = set()\n",
        "for a,b in edge_re.findall(raw):\n",
        "    adj[a].append(b); nodes.add(a); nodes.add(b)\n",
        "\n",
        "id_to_label = {}\n",
        "for node_id, attrs in node_decl_re.findall(raw):\n",
        "    m = label_re.search(attrs)\n",
        "    if m:\n",
        "        id_to_label[node_id] = (m.group(1) or m.group(2) or m.group(3)).strip()\n",
        "    nodes.add(node_id)\n",
        "\n",
        "# find terminal C (prefer label mentioning +100, else label starting with 'C')\n",
        "def is_C_label(lbl: str):\n",
        "    t = lbl.strip()\n",
        "    return ('+100' in t) or (t == 'C') or t.startswith('C:')\n",
        "\n",
        "C_ids = [nid for nid,lbl in id_to_label.items() if is_C_label(lbl)]\n",
        "if not C_ids:\n",
        "    raise RuntimeError(\"Couldn't find terminal C (looked for label 'C' or '+100').\")\n",
        "C = C_ids[0]\n",
        "\n",
        "# reverse graph + BFS from C to get shortest steps to C\n",
        "rev = defaultdict(list)\n",
        "for u, vs in adj.items():\n",
        "    for v in vs:\n",
        "        rev[v].append(u)\n",
        "\n",
        "dist = {n: math.inf for n in nodes}\n",
        "dq = deque([C]); dist[C] = 0\n",
        "while dq:\n",
        "    x = dq.popleft()\n",
        "    for p in rev.get(x, []):\n",
        "        if dist[p] == math.inf:\n",
        "            dist[p] = dist[x] + 1\n",
        "            dq.append(p)\n",
        "\n",
        "# compute V*(s) = 100 - steps (and V*(C)=100)\n",
        "def is_numeric_label(lbl: str) -> bool:\n",
        "    return re.fullmatch(r'[+-]?\\d+', lbl.strip()) is not None\n",
        "\n",
        "rows = []\n",
        "for nid in nodes:\n",
        "    lbl = id_to_label.get(nid, nid)\n",
        "    if is_numeric_label(lbl):\n",
        "        continue  # ignore any numeric-only helper nodes if present\n",
        "    if nid == C:\n",
        "        val = 100\n",
        "    else:\n",
        "        if dist[nid] == math.inf:\n",
        "            # unreachable -> -inf (loops hurt with gamma=1 and step cost -1)\n",
        "            # if you want blanks instead, set val = \"\" here\n",
        "            val = \"-inf\"\n",
        "        else:\n",
        "            val = 100 - dist[nid]\n",
        "    rows.append((lbl, val))\n",
        "\n",
        "rows.sort(key=lambda t: t[0])  # alphabetical by state label\n",
        "\n",
        "with open(\"values-3.tsv\", \"w\", newline=\"\") as f:\n",
        "    w = csv.writer(f, delimiter=\"\\t\")\n",
        "    w.writerow([\"state\", \"value\"])\n",
        "    for s,v in rows:\n",
        "        w.writerow([s, v])\n",
        "\n",
        "print(\"C id:\", C, \"label:\", id_to_label.get(C, C))\n",
        "print(\"Wrote values-3.tsv with\", len(rows), \"rows\")\n",
        "\n"
      ]
    },
    {
      "cell_type": "markdown",
      "metadata": {
        "id": "NAKgdr4XysuK"
      },
      "source": [
        "Submit \"values-3.tsv\" in Gradescope."
      ]
    },
    {
      "cell_type": "markdown",
      "metadata": {
        "id": "zi8lV2pbvWMs"
      },
      "source": [
        "## Part 4: Acknowledgements\n",
        "\n",
        "If you discussed this assignment with anyone, please acknowledge them here.\n",
        "If you did this assignment completely on your own, simply write none below.\n",
        "\n",
        "None\n",
        "\n",
        "If you used any libraries not mentioned in this module's content, please list them with a brief explanation what you used them for. If you did not use any other libraries, simply write none below.\n",
        "\n",
        "None\n",
        "\n",
        "If you used any generative AI tools, please add links to your transcripts below, and any other information that you feel is necessary to comply with the generative AI policy. If you did not use any generative AI tools, simply write none below.\n",
        "\n",
        "here is the conversation i had with chatgpt helping me go over my work\n",
        "\n",
        "https://chatgpt.com/share/68e1d9c3-46d4-800d-9203-4fd1db4f6195"
      ]
    }
  ],
  "metadata": {
    "colab": {
      "toc_visible": false
    },
    "kernelspec": {
      "display_name": "Python 3",
      "name": "python3"
    },
    "language_info": {
      "codemirror_mode": {
        "name": "ipython",
        "version": 3
      },
      "file_extension": ".py",
      "mimetype": "text/x-python",
      "name": "python",
      "nbconvert_exporter": "python",
      "pygments_lexer": "ipython3",
      "version": "3.12.1"
    }
  },
  "nbformat": 4,
  "nbformat_minor": 0
}
